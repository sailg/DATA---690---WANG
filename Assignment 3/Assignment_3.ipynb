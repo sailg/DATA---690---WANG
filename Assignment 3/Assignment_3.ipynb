{
 "cells": [
  {
   "cell_type": "markdown",
   "metadata": {},
   "source": [
    "## Assignment 3 - 690"
   ]
  },
  {
   "cell_type": "markdown",
   "metadata": {},
   "source": [
    "### Importing Libraries"
   ]
  },
  {
   "cell_type": "code",
   "execution_count": 6,
   "metadata": {},
   "outputs": [],
   "source": [
    "import random as rd"
   ]
  },
  {
   "cell_type": "markdown",
   "metadata": {},
   "source": [
    "### Write a program that generates 100 random integers between 0 and 9?"
   ]
  },
  {
   "cell_type": "code",
   "execution_count": 11,
   "metadata": {},
   "outputs": [
    {
     "name": "stdout",
     "output_type": "stream",
     "text": [
      "6  3  6  2  1  6  7  3  2  9  \n",
      "\n",
      "6  7  4  4  6  7  4  6  3  4  \n",
      "\n",
      "8  4  1  8  1  4  3  6  9  8  \n",
      "\n",
      "6  8  6  8  7  5  4  2  5  2  \n",
      "\n",
      "1  3  8  6  1  6  1  9  3  3  \n",
      "\n",
      "2  6  7  5  7  9  5  4  2  8  \n",
      "\n",
      "3  1  6  3  3  1  7  4  7  2  \n",
      "\n",
      "2  9  7  2  4  7  3  7  6  2  \n",
      "\n",
      "8  3  1  7  4  6  7  4  8  4  \n",
      "\n",
      "8  5  9  8  5  6  6  6  7  7  \n",
      "\n"
     ]
    }
   ],
   "source": [
    "for i in range(10):\n",
    "    for j in range(10):\n",
    "        print(rd.randint(1,9),\" \", end=\"\")\n",
    "    print(\"\\n\")"
   ]
  },
  {
   "cell_type": "markdown",
   "metadata": {},
   "source": [
    "### If the random number is an odd number, print \"@\" instead. like the following:"
   ]
  },
  {
   "cell_type": "code",
   "execution_count": 12,
   "metadata": {},
   "outputs": [
    {
     "name": "stdout",
     "output_type": "stream",
     "text": [
      "8  2  @  @  @  4  6  2  8  @  \n",
      "\n",
      "@  6  @  @  8  2  @  @  2  2  \n",
      "\n",
      "@  6  6  @  @  @  @  @  6  @  \n",
      "\n",
      "@  @  2  @  2  @  8  @  @  2  \n",
      "\n",
      "4  2  6  @  6  @  @  4  @  @  \n",
      "\n",
      "@  6  @  @  6  4  @  6  @  4  \n",
      "\n",
      "@  @  @  @  @  4  @  @  2  @  \n",
      "\n",
      "@  @  @  8  @  6  6  2  2  2  \n",
      "\n",
      "6  @  @  @  @  6  @  8  2  8  \n",
      "\n",
      "@  @  @  8  4  6  @  @  4  @  \n",
      "\n"
     ]
    }
   ],
   "source": [
    "for i in range(10):\n",
    "    for j in range(10):\n",
    "        rnums=rd.randint(1,9)\n",
    "        if rnums%2==0:\n",
    "            print(rnums,\" \",end=\"\")\n",
    "        else:\n",
    "            print(\"@\",\" \",end=\"\")\n",
    "    print(\"\\n\")"
   ]
  },
  {
   "cell_type": "markdown",
   "metadata": {},
   "source": [
    "### Calculate and Print the total of each row like the following (use \"*\" to separate the total from the numbers):"
   ]
  },
  {
   "cell_type": "code",
   "execution_count": 14,
   "metadata": {},
   "outputs": [
    {
     "name": "stdout",
     "output_type": "stream",
     "text": [
      "1  4  4  2  2  3  7  7  8  1  * 39 \n",
      "\n",
      "1  3  7  8  4  4  2  6  9  4  * 48 \n",
      "\n",
      "2  3  5  3  8  6  3  7  3  7  * 47 \n",
      "\n",
      "8  7  2  2  6  6  4  2  3  7  * 47 \n",
      "\n",
      "9  3  8  1  1  9  2  9  8  8  * 58 \n",
      "\n",
      "3  1  2  3  9  2  9  2  3  2  * 36 \n",
      "\n",
      "6  8  9  6  1  4  8  1  2  4  * 49 \n",
      "\n",
      "6  3  4  5  2  5  4  4  1  4  * 38 \n",
      "\n",
      "8  4  6  6  5  2  5  6  3  1  * 46 \n",
      "\n",
      "3  5  9  8  6  7  2  1  7  4  * 52 \n",
      "\n"
     ]
    }
   ],
   "source": [
    "for i in range(10):\n",
    "    list_nums=[]\n",
    "    for j in range(10):\n",
    "        rnums=rd.randint(1,9)\n",
    "        list_nums.append(rnums)\n",
    "        print(rnums,\" \", end='')\n",
    "    print(\"*\", sum(list_nums),\"\\n\")"
   ]
  },
  {
   "cell_type": "markdown",
   "metadata": {},
   "source": [
    "### Surround the matrix with asterisks (*) like the following"
   ]
  },
  {
   "cell_type": "code",
   "execution_count": 26,
   "metadata": {},
   "outputs": [
    {
     "name": "stdout",
     "output_type": "stream",
     "text": [
      "**********************************\n",
      "\n",
      "\n",
      "* 7  9  9  9  3  5  7  9  3  9   * \n",
      "\n",
      "\n",
      "\n",
      "* 2  5  3  5  5  6  4  3  8  9   * \n",
      "\n",
      "\n",
      "\n",
      "* 6  4  6  5  1  9  5  9  4  3   * \n",
      "\n",
      "\n",
      "\n",
      "* 6  6  7  9  3  9  1  8  2  6   * \n",
      "\n",
      "\n",
      "\n",
      "* 5  7  6  1  8  8  2  2  8  8   * \n",
      "\n",
      "\n",
      "\n",
      "* 6  8  8  8  9  3  5  2  9  3   * \n",
      "\n",
      "\n",
      "\n",
      "* 3  2  2  6  3  3  1  5  2  5   * \n",
      "\n",
      "\n",
      "\n",
      "* 3  1  1  3  4  8  2  4  2  6   * \n",
      "\n",
      "\n",
      "\n",
      "* 2  3  5  4  4  6  1  6  3  4   * \n",
      "\n",
      "\n",
      "\n",
      "* 1  1  7  6  7  8  3  2  7  8   * \n",
      "\n",
      "\n",
      "\n",
      "* 5  9  5  2  5  3  1  3  4  7   * \n",
      "\n",
      "**********************************\n"
     ]
    }
   ],
   "source": [
    "print('*'*34)\n",
    "for i in range(11):\n",
    "    if i==0 and i==10:\n",
    "        print(\"*\"*34,end='')\n",
    "        break;\n",
    "    print(\"\\n\")\n",
    "    print(\"* \",end='')\n",
    "    for j in range(10):\n",
    "        rnums=rd.randint(1,9)\n",
    "        print(rnums,\" \", end='')\n",
    "    print(\" *\",\"\\n\")\n",
    "print('*'*34)"
   ]
  },
  {
   "cell_type": "code",
   "execution_count": null,
   "metadata": {},
   "outputs": [],
   "source": []
  }
 ],
 "metadata": {
  "kernelspec": {
   "display_name": "Python 3",
   "language": "python",
   "name": "python3"
  },
  "language_info": {
   "codemirror_mode": {
    "name": "ipython",
    "version": 3
   },
   "file_extension": ".py",
   "mimetype": "text/x-python",
   "name": "python",
   "nbconvert_exporter": "python",
   "pygments_lexer": "ipython3",
   "version": "3.7.4"
  }
 },
 "nbformat": 4,
 "nbformat_minor": 4
}
