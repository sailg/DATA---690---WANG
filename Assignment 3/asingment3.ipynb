{
 "cells": [
  {
   "cell_type": "code",
   "execution_count": 2,
   "metadata": {},
   "outputs": [
    {
     "name": "stdout",
     "output_type": "stream",
     "text": [
      "7 0 7 6 6 6 2 7 4 5 \n",
      "\n",
      "2 1 1 4 7 2 8 0 9 9 \n",
      "\n",
      "5 3 4 8 5 6 5 4 6 6 \n",
      "\n",
      "8 0 1 8 5 4 8 2 6 7 \n",
      "\n",
      "7 0 1 0 1 0 2 7 0 8 \n",
      "\n",
      "5 4 3 9 3 9 5 8 7 1 \n",
      "\n",
      "9 8 2 4 0 9 1 9 4 7 \n",
      "\n",
      "4 4 0 0 4 9 4 7 0 3 \n",
      "\n",
      "9 3 6 6 1 6 8 4 6 0 \n",
      "\n",
      "4 1 5 1 2 3 2 1 5 0 \n",
      "\n"
     ]
    }
   ],
   "source": [
    "from numpy import random\n",
    "\n",
    "for i in range(10):\n",
    "    for j in range(10):\n",
    "        \n",
    "        z=random.randint(10)\n",
    "        \n",
    "        print(z,\"\", end='')\n",
    "        \n",
    "    print(\"\\n\")"
   ]
  },
  {
   "cell_type": "code",
   "execution_count": 4,
   "metadata": {},
   "outputs": [
    {
     "name": "stdout",
     "output_type": "stream",
     "text": [
      "2 @ 2 8 @ 2 @ 8 @ 4 \n",
      "\n",
      "@ @ @ @ 2 @ @ 0 2 @ \n",
      "\n",
      "6 6 6 @ 8 6 8 @ @ 8 \n",
      "\n",
      "4 0 @ 4 @ @ @ 0 @ @ \n",
      "\n",
      "@ @ 6 6 2 2 6 2 6 0 \n",
      "\n",
      "@ @ @ 6 0 @ @ @ 6 6 \n",
      "\n",
      "4 @ 4 @ @ 4 @ 8 @ 8 \n",
      "\n",
      "8 @ @ @ 2 4 @ 0 @ 8 \n",
      "\n",
      "@ 0 4 @ 6 @ 8 6 0 4 \n",
      "\n",
      "@ 4 @ 0 4 6 8 4 6 @ \n",
      "\n"
     ]
    }
   ],
   "source": [
    "for i in range(10):\n",
    "    for j in range(10):\n",
    "        \n",
    "        z=random.randint(10)\n",
    "        \n",
    "        if z%2==0:\n",
    "            \n",
    "            print(z,\"\",end='')\n",
    "        else:\n",
    "            \n",
    "            print(\"@\",\"\",end=\"\")\n",
    "            \n",
    "    print(\"\\n\")"
   ]
  },
  {
   "cell_type": "code",
   "execution_count": 8,
   "metadata": {},
   "outputs": [
    {
     "name": "stdout",
     "output_type": "stream",
     "text": [
      "4 0 2 2 6 6 0 3 8 6 * 30 \n",
      "\n",
      "1 4 5 6 2 6 8 0 2 2 * 30 \n",
      "\n",
      "3 6 1 4 5 4 7 8 2 2 * 30 \n",
      "\n",
      "0 6 7 0 2 6 7 5 7 6 * 30 \n",
      "\n",
      "0 2 8 5 3 4 2 7 4 5 * 30 \n",
      "\n",
      "0 6 8 0 1 7 9 5 7 2 * 30 \n",
      "\n",
      "1 0 9 4 5 4 3 9 9 7 * 30 \n",
      "\n",
      "4 0 0 3 6 8 7 0 6 1 * 30 \n",
      "\n",
      "1 5 9 1 4 3 7 9 9 3 * 30 \n",
      "\n",
      "2 8 4 6 8 9 2 9 0 2 * 30 \n",
      "\n"
     ]
    }
   ],
   "source": [
    "for m in range(10):\n",
    "    sum=0\n",
    "    for n in range(10):\n",
    "        \n",
    "        sum+=x\n",
    "        \n",
    "        z=random.randint(10)\n",
    "        \n",
    "        print(z,\"\", end='')\n",
    "        \n",
    "    print(\"*\", sum,\"\\n\")"
   ]
  },
  {
   "cell_type": "code",
   "execution_count": 17,
   "metadata": {},
   "outputs": [
    {
     "name": "stdout",
     "output_type": "stream",
     "text": [
      "**********************************\n",
      "\n",
      "* 1  3  4  6  7  8  7  2  1  8   * \n",
      "\n",
      "\n",
      "\n",
      "* 2  8  0  4  7  6  6  7  1  1   * \n",
      "\n",
      "\n",
      "\n",
      "* 1  4  7  0  7  0  4  8  0  2   * \n",
      "\n",
      "\n",
      "\n",
      "* 4  7  2  8  6  9  0  2  3  4   * \n",
      "\n",
      "\n",
      "\n",
      "* 6  5  4  2  8  1  2  1  1  5   * \n",
      "\n",
      "\n",
      "\n",
      "* 1  7  5  1  9  9  4  3  9  7   * \n",
      "\n",
      "\n",
      "\n",
      "* 7  2  0  1  2  5  2  6  4  3   * \n",
      "\n",
      "\n",
      "\n",
      "* 0  0  7  3  3  1  7  9  9  2   * \n",
      "\n",
      "\n",
      "\n",
      "* 4  7  6  9  3  0  0  8  4  6   * \n",
      "\n",
      "\n",
      "\n",
      "* 4  0  1  5  3  6  9  3  9  1   * \n",
      "\n",
      "**********************************"
     ]
    }
   ],
   "source": [
    "for m in range(11):\n",
    "    if m==0:\n",
    "        for n in range(34):\n",
    "            print(\"*\",end='')\n",
    "            \n",
    "    elif m==10:\n",
    "        for n in range(34):\n",
    "            print(\"*\",end='')\n",
    "        break;\n",
    "        \n",
    "    print(\"\\n\")\n",
    "    print(\"* \",end='')\n",
    "    for j in range(10):\n",
    "        \n",
    "        z=random.randint(10)\n",
    "        print(z,\" \", end='')\n",
    "        \n",
    "    print(\" *\",\"\\n\")"
   ]
  },
  {
   "cell_type": "code",
   "execution_count": 20,
   "metadata": {},
   "outputs": [
    {
     "name": "stdout",
     "output_type": "stream",
     "text": [
      "4   5   5   8   2   8   9   4   2   1   * 53 \n",
      "\n",
      "1   9   1   6   6   2   2   3   4   6   * 35 \n",
      "\n",
      "8   9   2   6   1   8   8   0   7   2   * 55 \n",
      "\n",
      "3   4   5   2   9   5   5   6   0   3   * 41 \n",
      "\n",
      "7   9   7   2   2   9   2   6   6   3   * 53 \n",
      "\n",
      "6   6   3   3   1   0   7   0   3   7   * 32 \n",
      "\n",
      "0   8   1   3   8   7   0   7   8   1   * 49 \n",
      "\n",
      "1   8   3   4   7   0   3   7   7   9   * 41 \n",
      "\n",
      "7   4   6   2   2   0   5   5   4   9   * 44 \n",
      "\n",
      "8   6   7   6   5   1   6   8   6   0   * 62 \n",
      "\n",
      "*   *   *   *   *   *   *   *   *   *   \n",
      "\n",
      "0  0  0  0  0  0  0  0  0  6  "
     ]
    }
   ],
   "source": [
    "s=[0,0,0,0,0,0,0,0,0,0]\n",
    "for m in range(12):\n",
    "    if m==10:\n",
    "        for m in range(10):\n",
    "            print(\"*   \",end='')\n",
    "        print(\"\\n\")\n",
    "        \n",
    "        for m in range(10):\n",
    "            print(s[m],\" \",end='')\n",
    "        break;\n",
    "    sum1=0\n",
    "    \n",
    "    for n in range(10):\n",
    "        sum1+=z\n",
    "        z=random.randint(10)\n",
    "        s[j]=s[n]+z\n",
    "        \n",
    "        print(z,\"  \", end='')\n",
    "    print(\"*\", sum1,\"\\n\")"
   ]
  },
  {
   "cell_type": "code",
   "execution_count": null,
   "metadata": {},
   "outputs": [],
   "source": []
  }
 ],
 "metadata": {
  "kernelspec": {
   "display_name": "Python 3",
   "language": "python",
   "name": "python3"
  },
  "language_info": {
   "codemirror_mode": {
    "name": "ipython",
    "version": 3
   },
   "file_extension": ".py",
   "mimetype": "text/x-python",
   "name": "python",
   "nbconvert_exporter": "python",
   "pygments_lexer": "ipython3",
   "version": "3.7.6"
  }
 },
 "nbformat": 4,
 "nbformat_minor": 4
}
