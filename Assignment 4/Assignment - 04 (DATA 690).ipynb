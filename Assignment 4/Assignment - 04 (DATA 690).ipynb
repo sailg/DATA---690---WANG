{
 "cells": [
  {
   "cell_type": "markdown",
   "metadata": {},
   "source": [
    "# Assignment - 04"
   ]
  },
  {
   "cell_type": "code",
   "execution_count": 29,
   "metadata": {},
   "outputs": [],
   "source": [
    "import csv"
   ]
  },
  {
   "cell_type": "markdown",
   "metadata": {},
   "source": [
    "Write code to open the text file census_cost.txt and read all lines into a list named \"line_list\". Print line_list."
   ]
  },
  {
   "cell_type": "code",
   "execution_count": 30,
   "metadata": {},
   "outputs": [],
   "source": [
    "with open(\"census_cost.txt\") as f:\n",
    "    line_list = f.readlines()"
   ]
  },
  {
   "cell_type": "code",
   "execution_count": 31,
   "metadata": {},
   "outputs": [
    {
     "name": "stdout",
     "output_type": "stream",
     "text": [
      "['Source: https://www.genealogybranches.com/censuscosts.html\\n', 'Census Year\\tTotal Population\\tCensus Cost\\tAverage Cost Per Person\\n', '1790\\t3,929,214\\t$44,377\\t1.13 cents\\n', '1800\\t5,308,483\\t$66,109\\t1.24 cents\\n', '1810\\t7,239,881\\t$178,445\\t2.46 cents\\n', '1820\\t9,633,822\\t$208,526\\t2.16 cents\\n', '1830\\t12,866,020\\t$378,545\\t2.94 cents\\n', '1840\\t17,069,458\\t$833,371\\t4.88 cents\\n', '1850\\t23,191,876\\t$1,423,351\\t6.14 cents\\n', '1860\\t31,443,321\\t$1,969,377\\t6.26 cents\\n', '1870\\t38,558,371\\t$3,421,198\\t8.87 cents\\n', '1880\\t50,155,783\\t$5,790,678\\t11.54 cents\\n', '1890\\t62,979,766\\t$11,547,127\\t18.33 cents\\n', '1900\\t76,303,387\\t$11,854,000\\t15.54 cents\\n', '1910\\t91,972,266\\t$15,968,000\\t17.07 cents\\n', '1920\\t105,710,620\\t$25,117,000\\t23.76 cents\\n', '1930\\t122,775,046\\t$40,156,000\\t32.71 cents\\n', '1940\\t131,669,275\\t$67,527,000\\t51.29 cents\\n', '1950\\t151,325,798\\t$91,462,000\\t60.44 cents\\n', '1960\\t179,323,175\\t$127,934,000\\t71.34 cents\\n', '1970\\t203,302,031\\t$247,653,000\\t$1.22\\n', '1980\\t226,542,199\\t$1,078,488,000\\t$4.76\\n', '1990\\t248,718,301\\t$2,492,830,000\\t$10.02\\n', '2000\\t281,421,906\\t$4.5 Billion\\t$15.99\\n', '2010*\\t308,745,538\\t$13 Billion\\t$42.11']\n"
     ]
    }
   ],
   "source": [
    "print(line_list)"
   ]
  },
  {
   "cell_type": "markdown",
   "metadata": {},
   "source": [
    "Extract the first two lines and put them in a different list named \"top2_list\". You will need to use them later.  Print the top2_list."
   ]
  },
  {
   "cell_type": "code",
   "execution_count": 32,
   "metadata": {},
   "outputs": [],
   "source": [
    "top2_list=[]\n",
    "for i in range(2):\n",
    "    top2_list.append(line_list[i])"
   ]
  },
  {
   "cell_type": "code",
   "execution_count": 33,
   "metadata": {},
   "outputs": [
    {
     "data": {
      "text/plain": [
       "['Source: https://www.genealogybranches.com/censuscosts.html\\n',\n",
       " 'Census Year\\tTotal Population\\tCensus Cost\\tAverage Cost Per Person\\n']"
      ]
     },
     "execution_count": 33,
     "metadata": {},
     "output_type": "execute_result"
    }
   ],
   "source": [
    "top2_list"
   ]
  },
  {
   "cell_type": "markdown",
   "metadata": {},
   "source": [
    "Put the rest of the lines (containing useful data elements) in a new list named \"data_list\". Print data_list."
   ]
  },
  {
   "cell_type": "code",
   "execution_count": 34,
   "metadata": {},
   "outputs": [],
   "source": [
    "data_list=[]\n",
    "for i in range(2,len(line_list)):\n",
    "    data_list.append(line_list[i])"
   ]
  },
  {
   "cell_type": "code",
   "execution_count": 35,
   "metadata": {},
   "outputs": [
    {
     "data": {
      "text/plain": [
       "['1790\\t3,929,214\\t$44,377\\t1.13 cents\\n',\n",
       " '1800\\t5,308,483\\t$66,109\\t1.24 cents\\n',\n",
       " '1810\\t7,239,881\\t$178,445\\t2.46 cents\\n',\n",
       " '1820\\t9,633,822\\t$208,526\\t2.16 cents\\n',\n",
       " '1830\\t12,866,020\\t$378,545\\t2.94 cents\\n',\n",
       " '1840\\t17,069,458\\t$833,371\\t4.88 cents\\n',\n",
       " '1850\\t23,191,876\\t$1,423,351\\t6.14 cents\\n',\n",
       " '1860\\t31,443,321\\t$1,969,377\\t6.26 cents\\n',\n",
       " '1870\\t38,558,371\\t$3,421,198\\t8.87 cents\\n',\n",
       " '1880\\t50,155,783\\t$5,790,678\\t11.54 cents\\n',\n",
       " '1890\\t62,979,766\\t$11,547,127\\t18.33 cents\\n',\n",
       " '1900\\t76,303,387\\t$11,854,000\\t15.54 cents\\n',\n",
       " '1910\\t91,972,266\\t$15,968,000\\t17.07 cents\\n',\n",
       " '1920\\t105,710,620\\t$25,117,000\\t23.76 cents\\n',\n",
       " '1930\\t122,775,046\\t$40,156,000\\t32.71 cents\\n',\n",
       " '1940\\t131,669,275\\t$67,527,000\\t51.29 cents\\n',\n",
       " '1950\\t151,325,798\\t$91,462,000\\t60.44 cents\\n',\n",
       " '1960\\t179,323,175\\t$127,934,000\\t71.34 cents\\n',\n",
       " '1970\\t203,302,031\\t$247,653,000\\t$1.22\\n',\n",
       " '1980\\t226,542,199\\t$1,078,488,000\\t$4.76\\n',\n",
       " '1990\\t248,718,301\\t$2,492,830,000\\t$10.02\\n',\n",
       " '2000\\t281,421,906\\t$4.5 Billion\\t$15.99\\n',\n",
       " '2010*\\t308,745,538\\t$13 Billion\\t$42.11']"
      ]
     },
     "execution_count": 35,
     "metadata": {},
     "output_type": "execute_result"
    }
   ],
   "source": [
    "data_list"
   ]
  },
  {
   "cell_type": "code",
   "execution_count": 36,
   "metadata": {},
   "outputs": [
    {
     "data": {
      "text/plain": [
       "'1790\\t3,929,214\\t$44,377\\t1.13 cents\\n'"
      ]
     },
     "execution_count": 36,
     "metadata": {},
     "output_type": "execute_result"
    }
   ],
   "source": [
    "data_list[0]"
   ]
  },
  {
   "cell_type": "markdown",
   "metadata": {},
   "source": [
    "Extract the column \"Census Year\" from data_list and assign them to a list named year_list. Remove the \"\" from the last element \"2010\". Print the cleansed year_list.\n",
    "\n",
    "Extract the \"Total Population\" column from the data_list and assign them to a list named \"pop_list\". Remove the \",\" from the numbers since Python doesn't recognize them. Print the cleansed \"pop_list\".\n",
    "\n",
    "Extract the \"Census Cost\" column from the data_list and assign them to a list named \"cost_list\". Remove the \",\", and \"$\", and \"Billion\". Make sure to add the \"0\"s to the numbers from which you removed \"Billion\". Print the cleansed cost_list.\n",
    "\n",
    "Extract the \"Average Cost per Person\" column from the data_list and assign them to a list named \"avg_list\". Remove the \"cents\", and \"$\". Make sure to divide the numbers in cents by 100 so that all numbers are measured in dollar. Print the cleansed avg_list."
   ]
  },
  {
   "cell_type": "code",
   "execution_count": 52,
   "metadata": {},
   "outputs": [],
   "source": [
    "year_list=[]\n",
    "pop_list=[]\n",
    "cost_list=[]\n",
    "avg_list=[]\n",
    "for i in data_list:\n",
    "    year_list.append(i.split(\"\\t\")[0].strip(\"*\"))\n",
    "    pop_list.append(i.split(\"\\t\")[1].replace(\",\",\"\"))\n",
    "    cost_list.append(i.split(\"\\t\")[2].replace(\",\",\"\").replace(\".\",\"\").strip(\"$\").replace(\" Billion\",\"000000000\"))\n",
    "    x=i.split(\"\\t\")[3].replace(\",\",\"\").replace(\" cents\",\"\").strip(\"\\n\")\n",
    "    if (x.find('$') == -1): \n",
    "        avg=str(float(x)/100)\n",
    "    else:\n",
    "        avg=x.strip(\"$\")\n",
    "    avg_list.append(avg)"
   ]
  },
  {
   "cell_type": "code",
   "execution_count": 53,
   "metadata": {},
   "outputs": [
    {
     "data": {
      "text/plain": [
       "['1790',\n",
       " '1800',\n",
       " '1810',\n",
       " '1820',\n",
       " '1830',\n",
       " '1840',\n",
       " '1850',\n",
       " '1860',\n",
       " '1870',\n",
       " '1880',\n",
       " '1890',\n",
       " '1900',\n",
       " '1910',\n",
       " '1920',\n",
       " '1930',\n",
       " '1940',\n",
       " '1950',\n",
       " '1960',\n",
       " '1970',\n",
       " '1980',\n",
       " '1990',\n",
       " '2000',\n",
       " '2010']"
      ]
     },
     "execution_count": 53,
     "metadata": {},
     "output_type": "execute_result"
    }
   ],
   "source": [
    "year_list"
   ]
  },
  {
   "cell_type": "code",
   "execution_count": 54,
   "metadata": {},
   "outputs": [
    {
     "data": {
      "text/plain": [
       "['3929214',\n",
       " '5308483',\n",
       " '7239881',\n",
       " '9633822',\n",
       " '12866020',\n",
       " '17069458',\n",
       " '23191876',\n",
       " '31443321',\n",
       " '38558371',\n",
       " '50155783',\n",
       " '62979766',\n",
       " '76303387',\n",
       " '91972266',\n",
       " '105710620',\n",
       " '122775046',\n",
       " '131669275',\n",
       " '151325798',\n",
       " '179323175',\n",
       " '203302031',\n",
       " '226542199',\n",
       " '248718301',\n",
       " '281421906',\n",
       " '308745538']"
      ]
     },
     "execution_count": 54,
     "metadata": {},
     "output_type": "execute_result"
    }
   ],
   "source": [
    "pop_list"
   ]
  },
  {
   "cell_type": "code",
   "execution_count": 55,
   "metadata": {},
   "outputs": [
    {
     "data": {
      "text/plain": [
       "['44377',\n",
       " '66109',\n",
       " '178445',\n",
       " '208526',\n",
       " '378545',\n",
       " '833371',\n",
       " '1423351',\n",
       " '1969377',\n",
       " '3421198',\n",
       " '5790678',\n",
       " '11547127',\n",
       " '11854000',\n",
       " '15968000',\n",
       " '25117000',\n",
       " '40156000',\n",
       " '67527000',\n",
       " '91462000',\n",
       " '127934000',\n",
       " '247653000',\n",
       " '1078488000',\n",
       " '2492830000',\n",
       " '45000000000',\n",
       " '13000000000']"
      ]
     },
     "execution_count": 55,
     "metadata": {},
     "output_type": "execute_result"
    }
   ],
   "source": [
    "cost_list"
   ]
  },
  {
   "cell_type": "markdown",
   "metadata": {},
   "source": [
    "Coalesce the cleansed data and save them to a text file named \"census_cost.csv\". \n",
    "\n",
    "The new file should look similar to the original source file except that it is in comma-delimited format and the numbers have been cleansed. The top two lines from the original file should be retained in the new file."
   ]
  },
  {
   "cell_type": "code",
   "execution_count": 56,
   "metadata": {},
   "outputs": [],
   "source": [
    "for i in range(len(cost_list)):\n",
    "    cost_list[i] = float(cost_list[i])"
   ]
  },
  {
   "cell_type": "code",
   "execution_count": 57,
   "metadata": {},
   "outputs": [],
   "source": [
    "for i in range(len(pop_list)):\n",
    "    pop_list [i] = float(pop_list[i])/100"
   ]
  },
  {
   "cell_type": "code",
   "execution_count": 58,
   "metadata": {},
   "outputs": [],
   "source": [
    "avg_list = []\n",
    "for i in range(len(cost_list)):\n",
    "    avg_list.append(cost_list[i]/pop_list[i])"
   ]
  },
  {
   "cell_type": "code",
   "execution_count": 59,
   "metadata": {},
   "outputs": [
    {
     "name": "stdout",
     "output_type": "stream",
     "text": [
      "[1.1294116329627248, 1.2453463635467985, 2.464750456533747, 2.164519958952947, 2.9422074580950444, 4.882234690755852, 6.1372827277965785, 6.263260168987874, 8.872776290263921, 11.545384507305966, 18.334661643550724, 15.535352316667149, 17.361755553570898, 23.76014822351813, 32.70697206662012, 51.28531314537883, 60.44045444253993, 71.34270291611779, 121.81531034483369, 476.0649471756915, 1002.2704360625237, 15990.226432479638, 4210.587166445139]\n"
     ]
    }
   ],
   "source": [
    "print(avg_list)"
   ]
  },
  {
   "cell_type": "code",
   "execution_count": 60,
   "metadata": {},
   "outputs": [],
   "source": [
    "with open('census_cost.csv', 'w') as f:\n",
    "    writer = csv.writer(f)\n",
    "    wrt=top2_list[1].split(\"\\t\")\n",
    "    writer.writerow(wrt)\n",
    "    for i in range(len(year_list)):\n",
    "        writer.writerow([year_list[i],pop_list[i],cost_list[i],avg_list[i]])"
   ]
  }
 ],
 "metadata": {
  "kernelspec": {
   "display_name": "Python 3",
   "language": "python",
   "name": "python3"
  },
  "language_info": {
   "codemirror_mode": {
    "name": "ipython",
    "version": 3
   },
   "file_extension": ".py",
   "mimetype": "text/x-python",
   "name": "python",
   "nbconvert_exporter": "python",
   "pygments_lexer": "ipython3",
   "version": "3.7.4"
  }
 },
 "nbformat": 4,
 "nbformat_minor": 2
}
