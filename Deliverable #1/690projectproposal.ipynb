{
  "nbformat": 4,
  "nbformat_minor": 0,
  "metadata": {
    "kernelspec": {
      "display_name": "Python 3",
      "language": "python",
      "name": "python3"
    },
    "language_info": {
      "codemirror_mode": {
        "name": "ipython",
        "version": 3
      },
      "file_extension": ".py",
      "mimetype": "text/x-python",
      "name": "python",
      "nbconvert_exporter": "python",
      "pygments_lexer": "ipython3",
      "version": "3.7.4"
    },
    "colab": {
      "name": "690projectproposal.ipynb",
      "provenance": [],
      "collapsed_sections": []
    }
  },
  "cells": [
    {
      "cell_type": "markdown",
      "metadata": {
        "id": "owdnazQVrbzy"
      },
      "source": [
        "# Project Proposal 690 "
      ]
    },
    {
      "cell_type": "markdown",
      "metadata": {
        "id": "0gKTMTJ0rbzy"
      },
      "source": [
        "# Q1.What is your issue of interest (provide sufficient background information)?"
      ]
    },
    {
      "cell_type": "markdown",
      "metadata": {
        "id": "h_jDhOPQrbzz"
      },
      "source": [
        "### \"Accidental deaths due to various drugs\"\n"
      ]
    },
    {
      "cell_type": "markdown",
      "metadata": {
        "id": "qEv5tQu8rbz0"
      },
      "source": [
        "## Q2.Why is this issue important to you and/or to others?"
      ]
    },
    {
      "cell_type": "markdown",
      "metadata": {
        "id": "1MfadRQWrbz0"
      },
      "source": [
        "## I found this dataset as challenging and thought would help me putting everything I have learnt from this class to complete this project.Also this analysis might lead  to decrease deaths due to drugs"
      ]
    },
    {
      "cell_type": "markdown",
      "metadata": {
        "id": "LWZ03RM0rbz1"
      },
      "source": [
        "## Q.3 What questions do you have in mind and would like to answer?"
      ]
    },
    {
      "cell_type": "markdown",
      "metadata": {
        "id": "PyyM15bHrbz1"
      },
      "source": [
        "### \"Which age group are facing deaths at most?\""
      ]
    },
    {
      "cell_type": "markdown",
      "metadata": {
        "id": "nQSVS3x2rbz2"
      },
      "source": [
        "### \"Which gender group facing more deaths?\""
      ]
    },
    {
      "cell_type": "markdown",
      "metadata": {
        "id": "-zxAyiWfrbz2"
      },
      "source": [
        "### \"Which drug is reason for more deaths\""
      ]
    },
    {
      "cell_type": "markdown",
      "metadata": {
        "id": "CnnCVL7Prbz2"
      },
      "source": [
        "## Q.4 Where do you get the data to help answer your questions?"
      ]
    },
    {
      "cell_type": "markdown",
      "metadata": {
        "id": "_FL2TsmQrbz3"
      },
      "source": [
        "### Source: https://catalog.data.gov/dataset/accidental-drug-related-deaths-january-2012-sept-2015"
      ]
    },
    {
      "cell_type": "markdown",
      "metadata": {
        "id": "n108KCvjrbz3"
      },
      "source": [
        "## Q.5 What will be your unit of analysis (for example, patient, organization, or country)? Roughly how many units (observations) do you expect to analyze?"
      ]
    },
    {
      "cell_type": "markdown",
      "metadata": {
        "id": "MP2--yfSrbz4"
      },
      "source": [
        "### My unit of analysis is deaths recorded due to different kind of drugs."
      ]
    },
    {
      "cell_type": "markdown",
      "metadata": {
        "id": "JrT9ADyqrbz4"
      },
      "source": [
        "## Q.6 What variables/measures do you plan to use in your analysis (variables should be tied to the questions in #3)?"
      ]
    },
    {
      "cell_type": "markdown",
      "metadata": {
        "id": "_yMiQYWYrbz5"
      },
      "source": [
        "### \"Age\",\"Gender\",\"Drug name\""
      ]
    },
    {
      "cell_type": "markdown",
      "metadata": {
        "id": "J-GkkBfirbz5"
      },
      "source": [
        "## Q.7 What kinds of techniques do you plan to use (for example, summary statistics, scatter plot, bar chart, chi-squared test)?"
      ]
    },
    {
      "cell_type": "markdown",
      "metadata": {
        "id": "CwR5vVKRrbz6"
      },
      "source": [
        "### \"Bar plot\""
      ]
    },
    {
      "cell_type": "code",
      "metadata": {
        "id": "xlyWkn1Nrr-h"
      },
      "source": [
        ""
      ],
      "execution_count": null,
      "outputs": []
    }
  ]
}
