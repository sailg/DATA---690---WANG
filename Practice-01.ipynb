{
 "cells": [
  {
   "cell_type": "code",
   "execution_count": 1,
   "metadata": {},
   "outputs": [
    {
     "data": {
      "text/plain": [
       "{0: -1.075591712069677,\n",
       " 1: -0.9839355233666,\n",
       " 2: 1.7628734622893627,\n",
       " 3: -0.014415972017756119,\n",
       " 4: -1.0116638062765353,\n",
       " 5: 0.1404054966718854,\n",
       " 6: -1.204486342460377}"
      ]
     },
     "execution_count": 1,
     "metadata": {},
     "output_type": "execute_result"
    }
   ],
   "source": [
    "import numpy as np\n",
    "data = {i : np.random.randn() for i in range(7)}\n",
    "data\n"
   ]
  },
  {
   "cell_type": "code",
   "execution_count": 1,
   "metadata": {},
   "outputs": [
    {
     "name": "stdout",
     "output_type": "stream",
     "text": [
      "{0: 1.4352453580862075, 1: 0.5165306018981577, 2: -2.2861932657369346, 3: 1.0009781844111179, 4: 1.2222518715514465, 5: -0.3668740104121374, 6: 0.31109236518832123}\n"
     ]
    }
   ],
   "source": [
    "from numpy.random import randn\n",
    ">>> data = {i : randn() for i in range(7)}\n",
    ">>> print(data)"
   ]
  },
  {
   "cell_type": "code",
   "execution_count": 7,
   "metadata": {},
   "outputs": [],
   "source": [
    "b = [1, 2, 3]\n",
    "b?"
   ]
  },
  {
   "cell_type": "code",
   "execution_count": 5,
   "metadata": {},
   "outputs": [],
   "source": [
    "def f(x, y, z):\n",
    "    return (x + y) / z\n",
    "a = 5\n",
    "b = 6\n",
    "c = 7.5\n",
    "result = f(a, b, c)"
   ]
  },
  {
   "cell_type": "code",
   "execution_count": 8,
   "metadata": {},
   "outputs": [
    {
     "data": {
      "text/plain": [
       "1.4666666666666666"
      ]
     },
     "execution_count": 8,
     "metadata": {},
     "output_type": "execute_result"
    }
   ],
   "source": [
    "result"
   ]
  },
  {
   "cell_type": "markdown",
   "metadata": {},
   "source": [
    "Ctrl-P or up-arrow Search backward in command history for commands starting with currently entered text\n",
    "Ctrl-N or down-arrow Search forward in command history for commands starting with currently entered text\n",
    "Ctrl-R Readline-style reverse history search (partial matching)\n",
    "Ctrl-Shift-V Paste text from clipboard\n",
    "Ctrl-C Interrupt currently executing code\n",
    "Ctrl-A Move cursor to beginning of line\n",
    "Ctrl-E Move cursor to end of line\n",
    "Ctrl-K Delete text from cursor until end of line\n",
    "Ctrl-U Discard all text on current line\n",
    "Ctrl-F Move cursor forward one character\n",
    "Ctrl-B Move cursor back one character\n",
    "Ctrl-L Clear screen"
   ]
  },
  {
   "cell_type": "markdown",
   "metadata": {},
   "source": [
    "%quickref Display the IPython Quick Reference Card\n",
    "%magic Display detailed documentation for all of the available magic commands\n",
    "%debug Enter the interactive debugger at the bottom of the last exception traceback\n",
    "%hist Print command input (and optionally output) history\n",
    "%pdb Automatically enter debugger after any exception\n",
    "%paste Execute preformatted Python code from clipboard\n",
    "%cpaste Open a special prompt for manually pasting Python code to be executed\n",
    "%reset Delete all variables/names defined in interactive namespace\n",
    "%page OBJECT Pretty-print the object and display it through a pager\n",
    "%run script.py Run a Python script inside IPython\n",
    "%prun statement Execute statement with cProfile and report the profiler output\n",
    "%time statement Report the execution time of a single statement\n",
    "%timeit statement Run a statement multiple times to compute an ensemble average execution time; useful for\n",
    "timing code with very short execution time\n",
    "%who, %who_ls, %whos Display variables defined in interactive namespace, with varying levels of information/\n",
    "verbosity\n",
    "%xdel variable Delete a variable and attempt to clear any references to the object in the IPython internals"
   ]
  },
  {
   "cell_type": "code",
   "execution_count": 13,
   "metadata": {},
   "outputs": [],
   "source": [
    "def isiterable(obj):\n",
    "    try:\n",
    "        iter(obj)\n",
    "        return True\n",
    "    except TypeError: # not iterable\n",
    "        return False"
   ]
  },
  {
   "cell_type": "code",
   "execution_count": 14,
   "metadata": {},
   "outputs": [
    {
     "data": {
      "text/plain": [
       "True"
      ]
     },
     "execution_count": 14,
     "metadata": {},
     "output_type": "execute_result"
    }
   ],
   "source": [
    "isiterable('a string')"
   ]
  },
  {
   "cell_type": "code",
   "execution_count": null,
   "metadata": {},
   "outputs": [],
   "source": []
  }
 ],
 "metadata": {
  "kernelspec": {
   "display_name": "Python 3",
   "language": "python",
   "name": "python3"
  },
  "language_info": {
   "codemirror_mode": {
    "name": "ipython",
    "version": 3
   },
   "file_extension": ".py",
   "mimetype": "text/x-python",
   "name": "python",
   "nbconvert_exporter": "python",
   "pygments_lexer": "ipython3",
   "version": "3.7.4"
  }
 },
 "nbformat": 4,
 "nbformat_minor": 2
}
