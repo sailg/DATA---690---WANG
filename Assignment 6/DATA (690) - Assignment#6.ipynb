{
 "cells": [
  {
   "cell_type": "markdown",
   "metadata": {},
   "source": [
    "# DATA(690) ASSIGNMENT - 6 "
   ]
  },
  {
   "cell_type": "code",
   "execution_count": 1,
   "metadata": {},
   "outputs": [],
   "source": [
    "# Setting up a new dataframe using Pandas read_html() function.\n",
    "import pandas as pd\n",
    "df = pd.read_html(\"https://www.genealogybranches.com/censuscosts.html\")"
   ]
  },
  {
   "cell_type": "code",
   "execution_count": 3,
   "metadata": {},
   "outputs": [
    {
     "data": {
      "text/plain": [
       "2"
      ]
     },
     "execution_count": 3,
     "metadata": {},
     "output_type": "execute_result"
    }
   ],
   "source": [
    "#Number of html tables in the dataframe\n",
    "len(df)"
   ]
  },
  {
   "cell_type": "code",
   "execution_count": 5,
   "metadata": {},
   "outputs": [],
   "source": [
    "#Loading the two HTML tabels into two seperate dataframes\n",
    "df_1 = df[0]\n",
    "df_2 = df[1]\n"
   ]
  },
  {
   "cell_type": "code",
   "execution_count": 6,
   "metadata": {},
   "outputs": [
    {
     "data": {
      "text/html": [
       "<div>\n",
       "<style scoped>\n",
       "    .dataframe tbody tr th:only-of-type {\n",
       "        vertical-align: middle;\n",
       "    }\n",
       "\n",
       "    .dataframe tbody tr th {\n",
       "        vertical-align: top;\n",
       "    }\n",
       "\n",
       "    .dataframe thead th {\n",
       "        text-align: right;\n",
       "    }\n",
       "</style>\n",
       "<table border=\"1\" class=\"dataframe\">\n",
       "  <thead>\n",
       "    <tr style=\"text-align: right;\">\n",
       "      <th></th>\n",
       "      <th>0</th>\n",
       "      <th>1</th>\n",
       "      <th>2</th>\n",
       "      <th>3</th>\n",
       "    </tr>\n",
       "  </thead>\n",
       "  <tbody>\n",
       "    <tr>\n",
       "      <td>0</td>\n",
       "      <td>Census Year</td>\n",
       "      <td>Total Population</td>\n",
       "      <td>Census Cost</td>\n",
       "      <td>Average Cost Per Person</td>\n",
       "    </tr>\n",
       "    <tr>\n",
       "      <td>1</td>\n",
       "      <td>1790</td>\n",
       "      <td>3929214</td>\n",
       "      <td>$44,377</td>\n",
       "      <td>1.13 cents</td>\n",
       "    </tr>\n",
       "    <tr>\n",
       "      <td>2</td>\n",
       "      <td>1800</td>\n",
       "      <td>5308483</td>\n",
       "      <td>$66,109</td>\n",
       "      <td>1.24 cents</td>\n",
       "    </tr>\n",
       "    <tr>\n",
       "      <td>3</td>\n",
       "      <td>1810</td>\n",
       "      <td>7239881</td>\n",
       "      <td>$178,445</td>\n",
       "      <td>2.46 cents</td>\n",
       "    </tr>\n",
       "    <tr>\n",
       "      <td>4</td>\n",
       "      <td>1820</td>\n",
       "      <td>9633822</td>\n",
       "      <td>$208,526</td>\n",
       "      <td>2.16 cents</td>\n",
       "    </tr>\n",
       "    <tr>\n",
       "      <td>5</td>\n",
       "      <td>1830</td>\n",
       "      <td>12866020</td>\n",
       "      <td>$378,545</td>\n",
       "      <td>2.94 cents</td>\n",
       "    </tr>\n",
       "    <tr>\n",
       "      <td>6</td>\n",
       "      <td>1840</td>\n",
       "      <td>17069458</td>\n",
       "      <td>$833,371</td>\n",
       "      <td>4.88 cents</td>\n",
       "    </tr>\n",
       "    <tr>\n",
       "      <td>7</td>\n",
       "      <td>1850</td>\n",
       "      <td>23191876</td>\n",
       "      <td>$1,423,351</td>\n",
       "      <td>6.14 cents</td>\n",
       "    </tr>\n",
       "    <tr>\n",
       "      <td>8</td>\n",
       "      <td>1860</td>\n",
       "      <td>31443321</td>\n",
       "      <td>$1,969,377</td>\n",
       "      <td>6.26 cents</td>\n",
       "    </tr>\n",
       "    <tr>\n",
       "      <td>9</td>\n",
       "      <td>1870</td>\n",
       "      <td>38558371</td>\n",
       "      <td>$3,421,198</td>\n",
       "      <td>8.87 cents</td>\n",
       "    </tr>\n",
       "    <tr>\n",
       "      <td>10</td>\n",
       "      <td>1880</td>\n",
       "      <td>50155783</td>\n",
       "      <td>$5,790,678</td>\n",
       "      <td>11.54 cents</td>\n",
       "    </tr>\n",
       "    <tr>\n",
       "      <td>11</td>\n",
       "      <td>1890</td>\n",
       "      <td>62979766</td>\n",
       "      <td>$11,547,127</td>\n",
       "      <td>18.33 cents</td>\n",
       "    </tr>\n",
       "    <tr>\n",
       "      <td>12</td>\n",
       "      <td>1900</td>\n",
       "      <td>76303387</td>\n",
       "      <td>$11,854,000</td>\n",
       "      <td>15.54 cents</td>\n",
       "    </tr>\n",
       "    <tr>\n",
       "      <td>13</td>\n",
       "      <td>1910</td>\n",
       "      <td>91972266</td>\n",
       "      <td>$15,968,000</td>\n",
       "      <td>17.07 cents</td>\n",
       "    </tr>\n",
       "    <tr>\n",
       "      <td>14</td>\n",
       "      <td>1920</td>\n",
       "      <td>105710620</td>\n",
       "      <td>$25,117,000</td>\n",
       "      <td>23.76 cents</td>\n",
       "    </tr>\n",
       "    <tr>\n",
       "      <td>15</td>\n",
       "      <td>1930</td>\n",
       "      <td>122775046</td>\n",
       "      <td>$40,156,000</td>\n",
       "      <td>32.71 cents</td>\n",
       "    </tr>\n",
       "    <tr>\n",
       "      <td>16</td>\n",
       "      <td>1940</td>\n",
       "      <td>131669275</td>\n",
       "      <td>$67,527,000</td>\n",
       "      <td>51.29 cents</td>\n",
       "    </tr>\n",
       "    <tr>\n",
       "      <td>17</td>\n",
       "      <td>1950</td>\n",
       "      <td>151325798</td>\n",
       "      <td>$91,462,000</td>\n",
       "      <td>60.44 cents</td>\n",
       "    </tr>\n",
       "    <tr>\n",
       "      <td>18</td>\n",
       "      <td>1960</td>\n",
       "      <td>179323175</td>\n",
       "      <td>$127,934,000</td>\n",
       "      <td>71.34 cents</td>\n",
       "    </tr>\n",
       "    <tr>\n",
       "      <td>19</td>\n",
       "      <td>1970</td>\n",
       "      <td>203302031</td>\n",
       "      <td>$247,653,000</td>\n",
       "      <td>$1.22</td>\n",
       "    </tr>\n",
       "    <tr>\n",
       "      <td>20</td>\n",
       "      <td>1980</td>\n",
       "      <td>226542199</td>\n",
       "      <td>$1,078,488,000</td>\n",
       "      <td>$4.76</td>\n",
       "    </tr>\n",
       "    <tr>\n",
       "      <td>21</td>\n",
       "      <td>1990</td>\n",
       "      <td>248718301</td>\n",
       "      <td>$2,492,830,000</td>\n",
       "      <td>$10.02</td>\n",
       "    </tr>\n",
       "    <tr>\n",
       "      <td>22</td>\n",
       "      <td>2000</td>\n",
       "      <td>281421906</td>\n",
       "      <td>$4.5 Billion</td>\n",
       "      <td>$15.99</td>\n",
       "    </tr>\n",
       "    <tr>\n",
       "      <td>23</td>\n",
       "      <td>2010*</td>\n",
       "      <td>308745538</td>\n",
       "      <td>$13 Billion</td>\n",
       "      <td>$42.11</td>\n",
       "    </tr>\n",
       "  </tbody>\n",
       "</table>\n",
       "</div>"
      ],
      "text/plain": [
       "              0                 1               2                        3\n",
       "0   Census Year  Total Population     Census Cost  Average Cost Per Person\n",
       "1          1790           3929214         $44,377               1.13 cents\n",
       "2          1800           5308483         $66,109               1.24 cents\n",
       "3          1810           7239881        $178,445               2.46 cents\n",
       "4          1820           9633822        $208,526               2.16 cents\n",
       "5          1830          12866020        $378,545               2.94 cents\n",
       "6          1840          17069458        $833,371               4.88 cents\n",
       "7          1850          23191876      $1,423,351               6.14 cents\n",
       "8          1860          31443321      $1,969,377               6.26 cents\n",
       "9          1870          38558371      $3,421,198               8.87 cents\n",
       "10         1880          50155783      $5,790,678              11.54 cents\n",
       "11         1890          62979766     $11,547,127              18.33 cents\n",
       "12         1900          76303387     $11,854,000              15.54 cents\n",
       "13         1910          91972266     $15,968,000              17.07 cents\n",
       "14         1920         105710620     $25,117,000              23.76 cents\n",
       "15         1930         122775046     $40,156,000              32.71 cents\n",
       "16         1940         131669275     $67,527,000              51.29 cents\n",
       "17         1950         151325798     $91,462,000              60.44 cents\n",
       "18         1960         179323175    $127,934,000              71.34 cents\n",
       "19         1970         203302031    $247,653,000                    $1.22\n",
       "20         1980         226542199  $1,078,488,000                    $4.76\n",
       "21         1990         248718301  $2,492,830,000                   $10.02\n",
       "22         2000         281421906    $4.5 Billion                   $15.99\n",
       "23        2010*         308745538     $13 Billion                   $42.11"
      ]
     },
     "execution_count": 6,
     "metadata": {},
     "output_type": "execute_result"
    }
   ],
   "source": [
    "df_1"
   ]
  },
  {
   "cell_type": "code",
   "execution_count": 7,
   "metadata": {},
   "outputs": [
    {
     "data": {
      "text/html": [
       "<div>\n",
       "<style scoped>\n",
       "    .dataframe tbody tr th:only-of-type {\n",
       "        vertical-align: middle;\n",
       "    }\n",
       "\n",
       "    .dataframe tbody tr th {\n",
       "        vertical-align: top;\n",
       "    }\n",
       "\n",
       "    .dataframe thead th {\n",
       "        text-align: right;\n",
       "    }\n",
       "</style>\n",
       "<table border=\"1\" class=\"dataframe\">\n",
       "  <thead>\n",
       "    <tr style=\"text-align: right;\">\n",
       "      <th></th>\n",
       "      <th>0</th>\n",
       "    </tr>\n",
       "  </thead>\n",
       "  <tbody>\n",
       "    <tr>\n",
       "      <td>0</td>\n",
       "      <td>The U.S. population reached 300,000,000 on 17 ...</td>\n",
       "    </tr>\n",
       "  </tbody>\n",
       "</table>\n",
       "</div>"
      ],
      "text/plain": [
       "                                                   0\n",
       "0  The U.S. population reached 300,000,000 on 17 ..."
      ]
     },
     "execution_count": 7,
     "metadata": {},
     "output_type": "execute_result"
    }
   ],
   "source": [
    "df_2"
   ]
  },
  {
   "cell_type": "markdown",
   "metadata": {},
   "source": [
    "### df_1 is the useful data frame as it is having the required information."
   ]
  },
  {
   "cell_type": "code",
   "execution_count": 8,
   "metadata": {},
   "outputs": [
    {
     "name": "stdout",
     "output_type": "stream",
     "text": [
      "<class 'pandas.core.frame.DataFrame'>\n",
      "RangeIndex: 24 entries, 0 to 23\n",
      "Data columns (total 4 columns):\n",
      "0    24 non-null object\n",
      "1    24 non-null object\n",
      "2    24 non-null object\n",
      "3    24 non-null object\n",
      "dtypes: object(4)\n",
      "memory usage: 896.0+ bytes\n"
     ]
    }
   ],
   "source": [
    "# Applying info() function to the dataframe df_1 to check the null values\n",
    "df_1.info()"
   ]
  },
  {
   "cell_type": "code",
   "execution_count": 9,
   "metadata": {},
   "outputs": [
    {
     "data": {
      "text/html": [
       "<div>\n",
       "<style scoped>\n",
       "    .dataframe tbody tr th:only-of-type {\n",
       "        vertical-align: middle;\n",
       "    }\n",
       "\n",
       "    .dataframe tbody tr th {\n",
       "        vertical-align: top;\n",
       "    }\n",
       "\n",
       "    .dataframe thead th {\n",
       "        text-align: right;\n",
       "    }\n",
       "</style>\n",
       "<table border=\"1\" class=\"dataframe\">\n",
       "  <thead>\n",
       "    <tr style=\"text-align: right;\">\n",
       "      <th></th>\n",
       "      <th>0</th>\n",
       "      <th>1</th>\n",
       "      <th>2</th>\n",
       "      <th>3</th>\n",
       "    </tr>\n",
       "  </thead>\n",
       "  <tbody>\n",
       "    <tr>\n",
       "      <td>count</td>\n",
       "      <td>24</td>\n",
       "      <td>24</td>\n",
       "      <td>24</td>\n",
       "      <td>24</td>\n",
       "    </tr>\n",
       "    <tr>\n",
       "      <td>unique</td>\n",
       "      <td>24</td>\n",
       "      <td>24</td>\n",
       "      <td>24</td>\n",
       "      <td>24</td>\n",
       "    </tr>\n",
       "    <tr>\n",
       "      <td>top</td>\n",
       "      <td>1890</td>\n",
       "      <td>248718301</td>\n",
       "      <td>$127,934,000</td>\n",
       "      <td>32.71 cents</td>\n",
       "    </tr>\n",
       "    <tr>\n",
       "      <td>freq</td>\n",
       "      <td>1</td>\n",
       "      <td>1</td>\n",
       "      <td>1</td>\n",
       "      <td>1</td>\n",
       "    </tr>\n",
       "  </tbody>\n",
       "</table>\n",
       "</div>"
      ],
      "text/plain": [
       "           0          1             2            3\n",
       "count     24         24            24           24\n",
       "unique    24         24            24           24\n",
       "top     1890  248718301  $127,934,000  32.71 cents\n",
       "freq       1          1             1            1"
      ]
     },
     "execution_count": 9,
     "metadata": {},
     "output_type": "execute_result"
    }
   ],
   "source": [
    "# Applying describe function on our dataframe\n",
    "df_1.describe()"
   ]
  },
  {
   "cell_type": "code",
   "execution_count": 10,
   "metadata": {},
   "outputs": [],
   "source": [
    "# Making the column name as header\n",
    "df_1.columns = df_1.iloc[0]\n",
    "df_1 = df_1.drop(df_1.index[0])"
   ]
  },
  {
   "cell_type": "markdown",
   "metadata": {},
   "source": [
    "#### Function to cleanse the year"
   ]
  },
  {
   "cell_type": "code",
   "execution_count": 11,
   "metadata": {},
   "outputs": [],
   "source": [
    "def cleanser_year(str1):\n",
    "    str2 = str1.replace(\"*\",\"\")\n",
    "    return str2"
   ]
  },
  {
   "cell_type": "markdown",
   "metadata": {},
   "source": [
    "#### Testing"
   ]
  },
  {
   "cell_type": "code",
   "execution_count": 12,
   "metadata": {},
   "outputs": [
    {
     "data": {
      "text/plain": [
       "'1989'"
      ]
     },
     "execution_count": 12,
     "metadata": {},
     "output_type": "execute_result"
    }
   ],
   "source": [
    "cleanser_year(\"1989*\")\n"
   ]
  },
  {
   "cell_type": "code",
   "execution_count": 13,
   "metadata": {},
   "outputs": [
    {
     "data": {
      "text/plain": [
       "'2010'"
      ]
     },
     "execution_count": 13,
     "metadata": {},
     "output_type": "execute_result"
    }
   ],
   "source": [
    "cleanser_year(\"20*10\")"
   ]
  },
  {
   "cell_type": "markdown",
   "metadata": {},
   "source": [
    "#### Applying the clense_year() function to \"Census Year\" column"
   ]
  },
  {
   "cell_type": "code",
   "execution_count": 14,
   "metadata": {},
   "outputs": [],
   "source": [
    "df_1[\"Census Year\"] = df_1[\"Census Year\"].apply(cleanser_year)\n"
   ]
  },
  {
   "cell_type": "markdown",
   "metadata": {},
   "source": [
    "#### Converting the datatype of Census Year and Total Population columns to int type"
   ]
  },
  {
   "cell_type": "code",
   "execution_count": 15,
   "metadata": {},
   "outputs": [],
   "source": [
    "df_1[\"Census Year\"] = df_1[\"Census Year\"].astype(int)"
   ]
  },
  {
   "cell_type": "code",
   "execution_count": 16,
   "metadata": {},
   "outputs": [],
   "source": [
    "df_1[\"Total Population\"] = df_1[\"Total Population\"].astype(int)"
   ]
  },
  {
   "cell_type": "markdown",
   "metadata": {},
   "source": [
    "#### Function to cleanse the Census Cost column "
   ]
  },
  {
   "cell_type": "code",
   "execution_count": 17,
   "metadata": {},
   "outputs": [],
   "source": [
    "def cleanse_cost(str1):\n",
    "    str1 = str1.replace(\" Billion\",\"000000000\")\n",
    "    str1 = str1.replace(\"$\",\"\")\n",
    "    str1 = str1.replace(\",\",\"\")\n",
    "    return str1\n",
    "    "
   ]
  },
  {
   "cell_type": "markdown",
   "metadata": {},
   "source": [
    "#### Testing"
   ]
  },
  {
   "cell_type": "code",
   "execution_count": 18,
   "metadata": {},
   "outputs": [
    {
     "data": {
      "text/plain": [
       "'13000000000'"
      ]
     },
     "execution_count": 18,
     "metadata": {},
     "output_type": "execute_result"
    }
   ],
   "source": [
    "cleanse_cost(\"$13 Billion\")"
   ]
  },
  {
   "cell_type": "markdown",
   "metadata": {},
   "source": [
    "#### CLeansing the Census Cost column by the  help of cleanse_cost() function."
   ]
  },
  {
   "cell_type": "code",
   "execution_count": 19,
   "metadata": {},
   "outputs": [],
   "source": [
    "df_1[\"Census Cost\"] = df_1[\"Census Cost\"].apply(cleanse_cost)"
   ]
  },
  {
   "cell_type": "code",
   "execution_count": 20,
   "metadata": {},
   "outputs": [],
   "source": [
    "df_1[\"Census Cost\"] = df_1[\"Census Cost\"].astype(float)"
   ]
  },
  {
   "cell_type": "markdown",
   "metadata": {},
   "source": [
    "#### Function to cleanse the AvgCost column"
   ]
  },
  {
   "cell_type": "code",
   "execution_count": 21,
   "metadata": {},
   "outputs": [],
   "source": [
    "def cleanse_Avgcost(str1):\n",
    "    if \"cents\" in str1:\n",
    "        str1 = str1.replace(\" cents\",\"\")\n",
    "        str1 = float(str1)/100\n",
    "    else:\n",
    "        str1 = str1.replace(\"$\",\"\")\n",
    "    return (str1)\n",
    "    "
   ]
  },
  {
   "cell_type": "markdown",
   "metadata": {},
   "source": [
    "#### Testing\n"
   ]
  },
  {
   "cell_type": "code",
   "execution_count": 24,
   "metadata": {},
   "outputs": [
    {
     "data": {
      "text/plain": [
       "0.023"
      ]
     },
     "execution_count": 24,
     "metadata": {},
     "output_type": "execute_result"
    }
   ],
   "source": [
    "cleanse_Avgcost(\"2.3 cents\")"
   ]
  },
  {
   "cell_type": "code",
   "execution_count": 26,
   "metadata": {},
   "outputs": [
    {
     "data": {
      "text/plain": [
       "'66.22'"
      ]
     },
     "execution_count": 26,
     "metadata": {},
     "output_type": "execute_result"
    }
   ],
   "source": [
    "cleanse_Avgcost(\"$66.22\")"
   ]
  },
  {
   "cell_type": "markdown",
   "metadata": {},
   "source": [
    "#### Applying cleanse_Avgcost function to \"Average Cost Per Person\" column"
   ]
  },
  {
   "cell_type": "code",
   "execution_count": 27,
   "metadata": {},
   "outputs": [],
   "source": [
    "df_1[\"Average Cost Per Person\"] = df_1[\"Average Cost Per Person\"].apply(cleanse_Avgcost)"
   ]
  },
  {
   "cell_type": "code",
   "execution_count": 28,
   "metadata": {},
   "outputs": [],
   "source": [
    "df_1[\"Average Cost Per Person\"] = df_1[\"Average Cost Per Person\"].astype(float)"
   ]
  },
  {
   "cell_type": "markdown",
   "metadata": {},
   "source": [
    "#### Dataframe that is ready to use"
   ]
  },
  {
   "cell_type": "code",
   "execution_count": 29,
   "metadata": {},
   "outputs": [
    {
     "data": {
      "text/html": [
       "<div>\n",
       "<style scoped>\n",
       "    .dataframe tbody tr th:only-of-type {\n",
       "        vertical-align: middle;\n",
       "    }\n",
       "\n",
       "    .dataframe tbody tr th {\n",
       "        vertical-align: top;\n",
       "    }\n",
       "\n",
       "    .dataframe thead th {\n",
       "        text-align: right;\n",
       "    }\n",
       "</style>\n",
       "<table border=\"1\" class=\"dataframe\">\n",
       "  <thead>\n",
       "    <tr style=\"text-align: right;\">\n",
       "      <th></th>\n",
       "      <th>Census Year</th>\n",
       "      <th>Total Population</th>\n",
       "      <th>Census Cost</th>\n",
       "      <th>Average Cost Per Person</th>\n",
       "    </tr>\n",
       "  </thead>\n",
       "  <tbody>\n",
       "    <tr>\n",
       "      <td>1</td>\n",
       "      <td>1790</td>\n",
       "      <td>3929214</td>\n",
       "      <td>4.437700e+04</td>\n",
       "      <td>0.0113</td>\n",
       "    </tr>\n",
       "    <tr>\n",
       "      <td>2</td>\n",
       "      <td>1800</td>\n",
       "      <td>5308483</td>\n",
       "      <td>6.610900e+04</td>\n",
       "      <td>0.0124</td>\n",
       "    </tr>\n",
       "    <tr>\n",
       "      <td>3</td>\n",
       "      <td>1810</td>\n",
       "      <td>7239881</td>\n",
       "      <td>1.784450e+05</td>\n",
       "      <td>0.0246</td>\n",
       "    </tr>\n",
       "    <tr>\n",
       "      <td>4</td>\n",
       "      <td>1820</td>\n",
       "      <td>9633822</td>\n",
       "      <td>2.085260e+05</td>\n",
       "      <td>0.0216</td>\n",
       "    </tr>\n",
       "    <tr>\n",
       "      <td>5</td>\n",
       "      <td>1830</td>\n",
       "      <td>12866020</td>\n",
       "      <td>3.785450e+05</td>\n",
       "      <td>0.0294</td>\n",
       "    </tr>\n",
       "    <tr>\n",
       "      <td>6</td>\n",
       "      <td>1840</td>\n",
       "      <td>17069458</td>\n",
       "      <td>8.333710e+05</td>\n",
       "      <td>0.0488</td>\n",
       "    </tr>\n",
       "    <tr>\n",
       "      <td>7</td>\n",
       "      <td>1850</td>\n",
       "      <td>23191876</td>\n",
       "      <td>1.423351e+06</td>\n",
       "      <td>0.0614</td>\n",
       "    </tr>\n",
       "    <tr>\n",
       "      <td>8</td>\n",
       "      <td>1860</td>\n",
       "      <td>31443321</td>\n",
       "      <td>1.969377e+06</td>\n",
       "      <td>0.0626</td>\n",
       "    </tr>\n",
       "    <tr>\n",
       "      <td>9</td>\n",
       "      <td>1870</td>\n",
       "      <td>38558371</td>\n",
       "      <td>3.421198e+06</td>\n",
       "      <td>0.0887</td>\n",
       "    </tr>\n",
       "    <tr>\n",
       "      <td>10</td>\n",
       "      <td>1880</td>\n",
       "      <td>50155783</td>\n",
       "      <td>5.790678e+06</td>\n",
       "      <td>0.1154</td>\n",
       "    </tr>\n",
       "    <tr>\n",
       "      <td>11</td>\n",
       "      <td>1890</td>\n",
       "      <td>62979766</td>\n",
       "      <td>1.154713e+07</td>\n",
       "      <td>0.1833</td>\n",
       "    </tr>\n",
       "    <tr>\n",
       "      <td>12</td>\n",
       "      <td>1900</td>\n",
       "      <td>76303387</td>\n",
       "      <td>1.185400e+07</td>\n",
       "      <td>0.1554</td>\n",
       "    </tr>\n",
       "    <tr>\n",
       "      <td>13</td>\n",
       "      <td>1910</td>\n",
       "      <td>91972266</td>\n",
       "      <td>1.596800e+07</td>\n",
       "      <td>0.1707</td>\n",
       "    </tr>\n",
       "    <tr>\n",
       "      <td>14</td>\n",
       "      <td>1920</td>\n",
       "      <td>105710620</td>\n",
       "      <td>2.511700e+07</td>\n",
       "      <td>0.2376</td>\n",
       "    </tr>\n",
       "    <tr>\n",
       "      <td>15</td>\n",
       "      <td>1930</td>\n",
       "      <td>122775046</td>\n",
       "      <td>4.015600e+07</td>\n",
       "      <td>0.3271</td>\n",
       "    </tr>\n",
       "    <tr>\n",
       "      <td>16</td>\n",
       "      <td>1940</td>\n",
       "      <td>131669275</td>\n",
       "      <td>6.752700e+07</td>\n",
       "      <td>0.5129</td>\n",
       "    </tr>\n",
       "    <tr>\n",
       "      <td>17</td>\n",
       "      <td>1950</td>\n",
       "      <td>151325798</td>\n",
       "      <td>9.146200e+07</td>\n",
       "      <td>0.6044</td>\n",
       "    </tr>\n",
       "    <tr>\n",
       "      <td>18</td>\n",
       "      <td>1960</td>\n",
       "      <td>179323175</td>\n",
       "      <td>1.279340e+08</td>\n",
       "      <td>0.7134</td>\n",
       "    </tr>\n",
       "    <tr>\n",
       "      <td>19</td>\n",
       "      <td>1970</td>\n",
       "      <td>203302031</td>\n",
       "      <td>2.476530e+08</td>\n",
       "      <td>1.2200</td>\n",
       "    </tr>\n",
       "    <tr>\n",
       "      <td>20</td>\n",
       "      <td>1980</td>\n",
       "      <td>226542199</td>\n",
       "      <td>1.078488e+09</td>\n",
       "      <td>4.7600</td>\n",
       "    </tr>\n",
       "    <tr>\n",
       "      <td>21</td>\n",
       "      <td>1990</td>\n",
       "      <td>248718301</td>\n",
       "      <td>2.492830e+09</td>\n",
       "      <td>10.0200</td>\n",
       "    </tr>\n",
       "    <tr>\n",
       "      <td>22</td>\n",
       "      <td>2000</td>\n",
       "      <td>281421906</td>\n",
       "      <td>4.500000e+00</td>\n",
       "      <td>15.9900</td>\n",
       "    </tr>\n",
       "    <tr>\n",
       "      <td>23</td>\n",
       "      <td>2010</td>\n",
       "      <td>308745538</td>\n",
       "      <td>1.300000e+10</td>\n",
       "      <td>42.1100</td>\n",
       "    </tr>\n",
       "  </tbody>\n",
       "</table>\n",
       "</div>"
      ],
      "text/plain": [
       "0   Census Year  Total Population   Census Cost  Average Cost Per Person\n",
       "1          1790           3929214  4.437700e+04                   0.0113\n",
       "2          1800           5308483  6.610900e+04                   0.0124\n",
       "3          1810           7239881  1.784450e+05                   0.0246\n",
       "4          1820           9633822  2.085260e+05                   0.0216\n",
       "5          1830          12866020  3.785450e+05                   0.0294\n",
       "6          1840          17069458  8.333710e+05                   0.0488\n",
       "7          1850          23191876  1.423351e+06                   0.0614\n",
       "8          1860          31443321  1.969377e+06                   0.0626\n",
       "9          1870          38558371  3.421198e+06                   0.0887\n",
       "10         1880          50155783  5.790678e+06                   0.1154\n",
       "11         1890          62979766  1.154713e+07                   0.1833\n",
       "12         1900          76303387  1.185400e+07                   0.1554\n",
       "13         1910          91972266  1.596800e+07                   0.1707\n",
       "14         1920         105710620  2.511700e+07                   0.2376\n",
       "15         1930         122775046  4.015600e+07                   0.3271\n",
       "16         1940         131669275  6.752700e+07                   0.5129\n",
       "17         1950         151325798  9.146200e+07                   0.6044\n",
       "18         1960         179323175  1.279340e+08                   0.7134\n",
       "19         1970         203302031  2.476530e+08                   1.2200\n",
       "20         1980         226542199  1.078488e+09                   4.7600\n",
       "21         1990         248718301  2.492830e+09                  10.0200\n",
       "22         2000         281421906  4.500000e+00                  15.9900\n",
       "23         2010         308745538  1.300000e+10                  42.1100"
      ]
     },
     "execution_count": 29,
     "metadata": {},
     "output_type": "execute_result"
    }
   ],
   "source": [
    "df_1"
   ]
  },
  {
   "cell_type": "markdown",
   "metadata": {},
   "source": [
    "#### Exporting the modified dataframe into a csv file"
   ]
  },
  {
   "cell_type": "code",
   "execution_count": 30,
   "metadata": {},
   "outputs": [],
   "source": [
    "df_1.to_csv(\"census_cost_cleansed.csv\", index=False)"
   ]
  }
 ],
 "metadata": {
  "kernelspec": {
   "display_name": "Python 3",
   "language": "python",
   "name": "python3"
  },
  "language_info": {
   "codemirror_mode": {
    "name": "ipython",
    "version": 3
   },
   "file_extension": ".py",
   "mimetype": "text/x-python",
   "name": "python",
   "nbconvert_exporter": "python",
   "pygments_lexer": "ipython3",
   "version": "3.7.4"
  }
 },
 "nbformat": 4,
 "nbformat_minor": 2
}
