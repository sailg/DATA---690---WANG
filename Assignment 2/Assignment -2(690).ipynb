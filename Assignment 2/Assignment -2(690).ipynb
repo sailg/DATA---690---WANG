{
 "cells": [
  {
   "cell_type": "code",
   "execution_count": 1,
   "metadata": {},
   "outputs": [],
   "source": [
    "def integers():\n",
    "    ele=[]\n",
    "    for i in range(10):\n",
    "        try:\n",
    "            Ele=int(input(\"ENTER NUMBER\"))\n",
    "            ele.append(Ele)\n",
    "        except ValueError:\n",
    "            return (\"INTEGERS ONLY\")\n",
    "    a=max(ele)\n",
    "    b=min(ele)\n",
    "    c=a-b\n",
    "    d=sum(ele)/len(ele)\n",
    "    Total=0\n",
    "    for i in range(len(ele)):\n",
    "          Total=pow((ele[i]-c),2)+Total\n",
    "    e = Total/len(ele)\n",
    "    f=pow(e,.5)\n",
    "    print(\"NUMBERS ARE\",ele)\n",
    "    print(\"BIGGEST NUMBER =\",a)\n",
    "    print(\"SMALLEST NUMBER =\",b)\n",
    "    print(\"Range =\",c)\n",
    "    print(\"Mean =\",d)\n",
    "    print(\"varience = \",e)\n",
    "    print(\"Standard Deviation = \",f)\n",
    "    \n",
    "    "
   ]
  },
  {
   "cell_type": "code",
   "execution_count": 2,
   "metadata": {},
   "outputs": [
    {
     "name": "stdout",
     "output_type": "stream",
     "text": [
      "ENTER NUMBER21\n",
      "ENTER NUMBER5\n",
      "ENTER NUMBER43\n",
      "ENTER NUMBER663\n",
      "ENTER NUMBER245\n",
      "ENTER NUMBER52\n",
      "ENTER NUMBER65\n",
      "ENTER NUMBER12\n",
      "ENTER NUMBER75\n",
      "ENTER NUMBER65\n",
      "NUMBERS ARE [21, 5, 43, 663, 245, 52, 65, 12, 75, 65]\n",
      "BIGGEST NUMBER = 663\n",
      "SMALLEST NUMBER = 5\n",
      "Range = 658\n",
      "Mean = 124.6\n",
      "varience =  320873.6\n",
      "Standard Deviation =  566.4570592728102\n"
     ]
    }
   ],
   "source": [
    "integers()"
   ]
  },
  {
   "cell_type": "code",
   "execution_count": null,
   "metadata": {},
   "outputs": [],
   "source": []
  }
 ],
 "metadata": {
  "kernelspec": {
   "display_name": "Python 3",
   "language": "python",
   "name": "python3"
  },
  "language_info": {
   "codemirror_mode": {
    "name": "ipython",
    "version": 3
   },
   "file_extension": ".py",
   "mimetype": "text/x-python",
   "name": "python",
   "nbconvert_exporter": "python",
   "pygments_lexer": "ipython3",
   "version": "3.7.4"
  }
 },
 "nbformat": 4,
 "nbformat_minor": 2
}
