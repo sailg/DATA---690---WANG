{
 "cells": [
  {
   "cell_type": "code",
   "execution_count": 1,
   "metadata": {},
   "outputs": [
    {
     "name": "stdin",
     "output_type": "stream",
     "text": [
      "Enter the desired number into the list 21\n",
      "Enter the desired number into the list 23\n",
      "Enter the desired number into the list 34\n",
      "Enter the desired number into the list 45\n",
      "Enter the desired number into the list 56\n",
      "Enter the desired number into the list 67\n",
      "Enter the desired number into the list 76\n",
      "Enter the desired number into the list 89\n",
      "Enter the desired number into the list 90\n",
      "Enter the desired number into the list 89\n"
     ]
    },
    {
     "name": "stdout",
     "output_type": "stream",
     "text": [
      "the integers which you entered in the list [21, 23, 34, 45, 56, 67, 76, 89, 90, 89]\n",
      "Maximum value in the list  90\n",
      "Minimum number in the list is 21\n",
      "Range of entered integer   69\n",
      "Mean = 59.0\n",
      "Variance= 668.4\n",
      "Standard Deviation =  81.75573374387878\n"
     ]
    }
   ],
   "source": [
    "# Importing math module\n",
    "import math\n",
    "# creating function for the integers\n",
    "def assingment():\n",
    "    i=0\n",
    "# Creating a emptylist    \n",
    "    list=[]\n",
    "    for i in range(10):\n",
    "        try:\n",
    "            \n",
    "            s=int(input(\"Enter the desired number into the list\")) # adding the integers to list \n",
    "            list.append(s)\n",
    "        except ValueError:\n",
    "            return (\"Enter only integers\")\n",
    "    \n",
    "    print(\"the integers which you entered in the list\",(list)) # integres in the list\n",
    "    \n",
    "    print(\"Maximum value in the list  {}\".format(max(list)))  # Maximum integer in the list\n",
    "    \n",
    "    print(\"Minimum number in the list is {}\".format(min(list)))  # Minimum value in the list\n",
    "   \n",
    "    print(\"Range of entered integer  \",max(list)-min(list))   # Range of value in the list\n",
    "    \n",
    "    x=sum(list)/len(list)\n",
    "    \n",
    "    print(\"Mean =\",x)\n",
    "    summation=0\n",
    "    \n",
    "    for i in range(len(list)):\n",
    "          summation=pow((list[i]-x),2)+summation  #  summation of square of difference between the mean and integers in the list\n",
    "  \n",
    "    print(\"Variance= {}\".format(summation/len(list)))    #Variance of the list\n",
    "    \n",
    "    print(\"Standard Deviation = \",math.sqrt(summation)) #Standard Deviation of the series\n",
    "    \n",
    "assingment()"
   ]
  }
 ],
 "metadata": {
  "kernelspec": {
   "display_name": "Python 3",
   "language": "python",
   "name": "python3"
  },
  "language_info": {
   "codemirror_mode": {
    "name": "ipython",
    "version": 3
   },
   "file_extension": ".py",
   "mimetype": "text/x-python",
   "name": "python",
   "nbconvert_exporter": "python",
   "pygments_lexer": "ipython3",
   "version": "3.7.6"
  }
 },
 "nbformat": 4,
 "nbformat_minor": 4
}
